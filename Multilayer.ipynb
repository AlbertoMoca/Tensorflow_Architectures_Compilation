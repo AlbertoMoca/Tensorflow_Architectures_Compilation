{
 "cells": [
  {
   "cell_type": "markdown",
   "metadata": {},
   "source": [
    "#### The data is found in:\n",
    "https://console.cloud.google.com/storage/browser/quickdraw_dataset/full/numpy_bitmap"
   ]
  },
  {
   "cell_type": "code",
   "execution_count": 40,
   "metadata": {},
   "outputs": [],
   "source": [
    "%matplotlib inline\n",
    "\n",
    "import numpy as np\n",
    "import matplotlib.pyplot as plt\n",
    "import matplotlib.image as mpimg\n",
    "from sklearn.utils import shuffle\n",
    "import tensorflow as tf\n",
    "import math"
   ]
  },
  {
   "cell_type": "markdown",
   "metadata": {},
   "source": [
    "#### Load Data"
   ]
  },
  {
   "cell_type": "code",
   "execution_count": 55,
   "metadata": {},
   "outputs": [],
   "source": [
    "apple_data = np.load('../Datasets/doodles/full_numpy_bitmap_apple.npy')[:3000]\n",
    "tower_data = np.load('../Datasets/doodles/full_numpy_bitmap_The Eiffel Tower.npy')[:3000]\n",
    "banana_data = np.load('../Datasets/doodles/full_numpy_bitmap_banana.npy')[:3000]\n",
    "\n",
    "apple_data = apple_data/255\n",
    "tower_data = tower_data/255\n",
    "banana_data = banana_data/255"
   ]
  },
  {
   "cell_type": "markdown",
   "metadata": {},
   "source": [
    "#### Inspect Data"
   ]
  },
  {
   "cell_type": "code",
   "execution_count": 56,
   "metadata": {},
   "outputs": [
    {
     "name": "stdout",
     "output_type": "stream",
     "text": [
      "Class frecuency:\n",
      "(3000, 784)\n",
      "(3000, 784)\n",
      "(3000, 784)\n",
      "Minimum class frequency:\n",
      "3000\n"
     ]
    }
   ],
   "source": [
    "print(\"Class frecuency:\")\n",
    "\n",
    "print(apple_data.shape)\n",
    "print(tower_data.shape)\n",
    "print(banana_data.shape)\n",
    "\n",
    "min_class_freq = min(apple_data.shape[0], tower_data.shape[0], banana_data.shape[0])\n",
    "\n",
    "print(\"Minimum class frequency:\")\n",
    "\n",
    "print(min_class_freq)"
   ]
  },
  {
   "cell_type": "markdown",
   "metadata": {},
   "source": [
    "#### Prepare Dataset"
   ]
  },
  {
   "cell_type": "code",
   "execution_count": 57,
   "metadata": {},
   "outputs": [],
   "source": [
    "\n",
    "\n",
    "test_size_per_class = int(min_class_freq * .2)\n",
    "train_size_per_class = int(min_class_freq * .8)\n",
    "\n",
    "\n",
    "# Preparing test set\n",
    "\n",
    "testing_inputs = np.concatenate((apple_data[:test_size_per_class], tower_data[:test_size_per_class]))\n",
    "testing_inputs = np.concatenate((testing_inputs, banana_data[:test_size_per_class]))\n",
    "\n",
    "testing_outputs = np.array(\n",
    "                    [0] * test_size_per_class + \n",
    "                    [1] * test_size_per_class + \n",
    "                    [2] * test_size_per_class \n",
    "                    )\n",
    "testing_inputs, testing_outputs = shuffle(testing_inputs, testing_outputs)\n",
    "\n",
    "\n",
    "# Preparing training set\n",
    "\n",
    "training_inputs = np.concatenate((apple_data[ test_size_per_class:test_size_per_class + train_size_per_class ], tower_data[test_size_per_class:test_size_per_class + train_size_per_class ]))\n",
    "training_inputs = np.concatenate((training_inputs, banana_data[test_size_per_class:test_size_per_class + train_size_per_class ]))\n",
    "\n",
    "\n",
    "training_outputs = np.array(\n",
    "                    [0] * train_size_per_class + \n",
    "                    [1] * train_size_per_class + \n",
    "                    [2] * train_size_per_class \n",
    "                    )\n",
    "\n",
    "training_inputs, training_outputs = shuffle(training_inputs, training_outputs)"
   ]
  },
  {
   "cell_type": "code",
   "execution_count": 58,
   "metadata": {},
   "outputs": [
    {
     "data": {
      "image/png": "[encoded data removed]",
      "text/plain": [
       "<Figure size 432x288 with 5 Axes>"
      ]
     },
     "metadata": {
      "needs_background": "light"
     },
     "output_type": "display_data"
    }
   ],
   "source": [
    "fig, axs = plt.subplots(1,5)\n",
    "\n",
    "for i in range(len(axs)):\n",
    "    axs[i].imshow(training_inputs[i].reshape((28,28)), cmap='Greys')\n",
    "    axs[i].title.set_text(training_outputs[i])"
   ]
  },
  {
   "cell_type": "markdown",
   "metadata": {},
   "source": [
    "#### Create Model"
   ]
  },
  {
   "cell_type": "code",
   "execution_count": 61,
   "metadata": {},
   "outputs": [
    {
     "name": "stdout",
     "output_type": "stream",
     "text": [
      "Model: \"multilayer_perceptron\"\n",
      "_________________________________________________________________\n",
      "Layer (type)                 Output Shape              Param #   \n",
      "=================================================================\n",
      "input_8 (InputLayer)         [(None, 784)]             0         \n",
      "_________________________________________________________________\n",
      "dense_15 (Dense)             (None, 128)               100480    \n",
      "_________________________________________________________________\n",
      "activation_15 (Activation)   (None, 128)               0         \n",
      "_________________________________________________________________\n",
      "dense_16 (Dense)             (None, 100)               12900     \n",
      "_________________________________________________________________\n",
      "activation_16 (Activation)   (None, 100)               0         \n",
      "_________________________________________________________________\n",
      "dense_17 (Dense)             (None, 3)                 303       \n",
      "_________________________________________________________________\n",
      "activation_17 (Activation)   (None, 3)                 0         \n",
      "=================================================================\n",
      "Total params: 113,683\n",
      "Trainable params: 113,683\n",
      "Non-trainable params: 0\n",
      "_________________________________________________________________\n"
     ]
    }
   ],
   "source": [
    "inputs = tf.keras.Input(shape=(784,))\n",
    "x = tf.keras.layers.Dense(128)(inputs)\n",
    "x = tf.keras.layers.Activation(tf.nn.relu)(x)\n",
    "x = tf.keras.layers.Dense(100)(x)\n",
    "x = tf.keras.layers.Activation(tf.nn.relu)(x)\n",
    "x = tf.keras.layers.Dense(3)(x)\n",
    "x = tf.keras.layers.Activation(tf.nn.softmax)(x)\n",
    "\n",
    "model = tf.keras.Model(inputs=inputs, outputs=x, name=\"multilayer_perceptron\")\n",
    "model.summary()"
   ]
  },
  {
   "cell_type": "markdown",
   "metadata": {},
   "source": [
    "### Training the model"
   ]
  },
  {
   "cell_type": "code",
   "execution_count": 62,
   "metadata": {},
   "outputs": [
    {
     "name": "stdout",
     "output_type": "stream",
     "text": [
      "Epoch 1/5\n",
      "144/144 [==============================] - 1s 3ms/step - loss: 0.3650 - accuracy: 0.8684 - val_loss: 0.1231 - val_accuracy: 0.9589\n",
      "Epoch 2/5\n",
      "144/144 [==============================] - 0s 2ms/step - loss: 0.1058 - accuracy: 0.9668 - val_loss: 0.0943 - val_accuracy: 0.9678\n",
      "Epoch 3/5\n",
      "144/144 [==============================] - 0s 2ms/step - loss: 0.0539 - accuracy: 0.9835 - val_loss: 0.0903 - val_accuracy: 0.9683\n",
      "Epoch 4/5\n",
      "144/144 [==============================] - 0s 2ms/step - loss: 0.0410 - accuracy: 0.9875 - val_loss: 0.0865 - val_accuracy: 0.9711\n",
      "Epoch 5/5\n",
      "144/144 [==============================] - 0s 2ms/step - loss: 0.0175 - accuracy: 0.9950 - val_loss: 0.0845 - val_accuracy: 0.9711\n"
     ]
    },
    {
     "data": {
      "text/plain": [
       "<tensorflow.python.keras.callbacks.History at 0x7f3c780f1df0>"
      ]
     },
     "execution_count": 62,
     "metadata": {},
     "output_type": "execute_result"
    }
   ],
   "source": [
    "batch_size = 50\n",
    "model.compile(optimizer='adam',\n",
    "            loss='sparse_categorical_crossentropy',\n",
    "            metrics=['accuracy']\n",
    "             )\n",
    "model.fit(training_inputs, \n",
    "          training_outputs, \n",
    "          validation_data=(testing_inputs,testing_outputs), \n",
    "          batch_size=batch_size, \n",
    "          steps_per_epoch=train_size_per_class*3//batch_size, \n",
    "          epochs=5\n",
    "         )"
   ]
  },
  {
   "cell_type": "code",
   "execution_count": null,
   "metadata": {},
   "outputs": [],
   "source": []
  },
  {
   "cell_type": "code",
   "execution_count": null,
   "metadata": {},
   "outputs": [],
   "source": []
  }
 ],
 "metadata": {
  "kernelspec": {
   "display_name": "Python 3",
   "language": "python",
   "name": "python3"
  },
  "language_info": {
   "codemirror_mode": {
    "name": "ipython",
    "version": 3
   },
   "file_extension": ".py",
   "mimetype": "text/x-python",
   "name": "python",
   "nbconvert_exporter": "python",
   "pygments_lexer": "ipython3",
   "version": "3.8.5"
  }
 },
 "nbformat": 4,
 "nbformat_minor": 4
}
